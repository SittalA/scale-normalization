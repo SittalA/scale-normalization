{
 "cells": [
  {
   "cell_type": "code",
   "execution_count": 9,
   "id": "fb10a7eb",
   "metadata": {},
   "outputs": [],
   "source": [
    "import cv2\n",
    "import numpy as np"
   ]
  },
  {
   "cell_type": "code",
   "execution_count": null,
   "id": "bc75b316",
   "metadata": {},
   "outputs": [],
   "source": [
    "img = cv2.imread(\"‪D:\\data\\train\\happy\\happy.jpg\")"
   ]
  },
  {
   "cell_type": "code",
   "execution_count": null,
   "id": "73eb68d4",
   "metadata": {},
   "outputs": [],
   "source": [
    "if img is not None:\n",
    "    gray = cv2.cvtColor(img, cv2.COLOR_BGR2GRAY)\n",
    "else:\n",
    "    print(\"Error loading image\")"
   ]
  },
  {
   "cell_type": "code",
   "execution_count": null,
   "id": "d8beb82d",
   "metadata": {},
   "outputs": [],
   "source": [
    "mean,std_dev = cv2.meanStdDev(gray)"
   ]
  },
  {
   "cell_type": "code",
   "execution_count": null,
   "id": "1d440fce",
   "metadata": {
    "scrolled": true
   },
   "outputs": [],
   "source": [
    "normalized = (gray - mean) / std_dev"
   ]
  },
  {
   "cell_type": "code",
   "execution_count": null,
   "id": "3555301d",
   "metadata": {},
   "outputs": [],
   "source": [
    "normalized = np.uint8(normalized)"
   ]
  },
  {
   "cell_type": "code",
   "execution_count": null,
   "id": "89119b02",
   "metadata": {},
   "outputs": [],
   "source": [
    "cv2.imshow(\"Original\", gray)\n",
    "cv2.imshow(\"Normalized\", normalized)\n",
    "cv2.waitKey(0)\n",
    "cv2.destroyAllWindows()"
   ]
  },
  {
   "cell_type": "code",
   "execution_count": null,
   "id": "2bf18708",
   "metadata": {},
   "outputs": [],
   "source": []
  },
  {
   "cell_type": "code",
   "execution_count": null,
   "id": "2bc99801",
   "metadata": {},
   "outputs": [],
   "source": []
  }
 ],
 "metadata": {
  "kernelspec": {
   "display_name": "Python 3 (ipykernel)",
   "language": "python",
   "name": "python3"
  },
  "language_info": {
   "codemirror_mode": {
    "name": "ipython",
    "version": 3
   },
   "file_extension": ".py",
   "mimetype": "text/x-python",
   "name": "python",
   "nbconvert_exporter": "python",
   "pygments_lexer": "ipython3",
   "version": "3.9.12"
  }
 },
 "nbformat": 4,
 "nbformat_minor": 5
}
